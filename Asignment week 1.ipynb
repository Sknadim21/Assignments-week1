{
 "cells": [
  {
   "cell_type": "markdown",
   "id": "9e903b8c-cf32-4bb8-aee5-4a7cc4e0a754",
   "metadata": {
    "tags": []
   },
   "source": [
    "## Q1. Create one variable containing following type of data:"
   ]
  },
  {
   "cell_type": "code",
   "execution_count": 27,
   "id": "51814619-ff3f-49d7-b603-24505348c887",
   "metadata": {},
   "outputs": [],
   "source": [
    "a = 'My name is Sk Nadim this my fisrt assignment'"
   ]
  },
  {
   "cell_type": "code",
   "execution_count": 28,
   "id": "02437d29-b3a4-4928-998d-ea7762a8b372",
   "metadata": {},
   "outputs": [
    {
     "data": {
      "text/plain": [
       "'My name is Sk Nadim this my fisrt assignment'"
      ]
     },
     "execution_count": 28,
     "metadata": {},
     "output_type": "execute_result"
    }
   ],
   "source": [
    "a"
   ]
  },
  {
   "cell_type": "code",
   "execution_count": 16,
   "id": "adf1335f-5af8-4ebf-b47a-ccfcedca8409",
   "metadata": {},
   "outputs": [
    {
     "data": {
      "text/plain": [
       "str"
      ]
     },
     "execution_count": 16,
     "metadata": {},
     "output_type": "execute_result"
    }
   ],
   "source": [
    "type(a)"
   ]
  },
  {
   "cell_type": "code",
   "execution_count": 1,
   "id": "e239d81f-1d69-4506-bc82-80d66458f0d6",
   "metadata": {},
   "outputs": [],
   "source": [
    "l =[25,30,35,'nadim', 'pwsskills',True,27.30]"
   ]
  },
  {
   "cell_type": "code",
   "execution_count": 2,
   "id": "ec50d8ac-8054-4352-a4d1-bd7aa4856e75",
   "metadata": {},
   "outputs": [
    {
     "data": {
      "text/plain": [
       "list"
      ]
     },
     "execution_count": 2,
     "metadata": {},
     "output_type": "execute_result"
    }
   ],
   "source": [
    "type(l)"
   ]
  },
  {
   "cell_type": "code",
   "execution_count": 3,
   "id": "ee2d5496-ca83-4acb-8169-a18a51608cdc",
   "metadata": {},
   "outputs": [],
   "source": [
    "f = 30.50"
   ]
  },
  {
   "cell_type": "code",
   "execution_count": 4,
   "id": "e362bec1-2c1b-4de1-8f84-b3d08b2bf273",
   "metadata": {},
   "outputs": [
    {
     "data": {
      "text/plain": [
       "float"
      ]
     },
     "execution_count": 4,
     "metadata": {},
     "output_type": "execute_result"
    }
   ],
   "source": [
    "type(f)"
   ]
  },
  {
   "cell_type": "code",
   "execution_count": 4,
   "id": "92d951c9-9f70-45f4-9f87-0f79f45d804c",
   "metadata": {},
   "outputs": [],
   "source": [
    "t = (2, 3, 4, 5, \"nadim\" , 25.50 , False , 30+40j)"
   ]
  },
  {
   "cell_type": "code",
   "execution_count": 5,
   "id": "2140d3f6-737b-4853-8e85-92dd35eb1fec",
   "metadata": {},
   "outputs": [
    {
     "data": {
      "text/plain": [
       "(2, 3, 4, 5, 'nadim', 25.5, False, (30+40j))"
      ]
     },
     "execution_count": 5,
     "metadata": {},
     "output_type": "execute_result"
    }
   ],
   "source": [
    "t"
   ]
  },
  {
   "cell_type": "code",
   "execution_count": 6,
   "id": "72e7d0c1-eeea-462c-895b-fe4348111564",
   "metadata": {},
   "outputs": [
    {
     "data": {
      "text/plain": [
       "tuple"
      ]
     },
     "execution_count": 6,
     "metadata": {},
     "output_type": "execute_result"
    }
   ],
   "source": [
    "type(t)"
   ]
  },
  {
   "cell_type": "markdown",
   "id": "8e7b06f3-d54c-4084-912d-c5a72f53d973",
   "metadata": {},
   "source": [
    "##Q3. Explain the use of the following operators using an example"
   ]
  },
  {
   "cell_type": "code",
   "execution_count": 7,
   "id": "12335708-d5c1-4bba-bd88-ddf8e11b3445",
   "metadata": {},
   "outputs": [
    {
     "data": {
      "text/plain": [
       "2.0"
      ]
     },
     "execution_count": 7,
     "metadata": {},
     "output_type": "execute_result"
    }
   ],
   "source": [
    "10/5"
   ]
  },
  {
   "cell_type": "code",
   "execution_count": 8,
   "id": "6f5d7e9f-06bb-4aef-9730-1d3f50e83b69",
   "metadata": {},
   "outputs": [],
   "source": [
    "# '/' This sign means division"
   ]
  },
  {
   "cell_type": "code",
   "execution_count": 10,
   "id": "5009f650-b846-4f1d-a169-b6d1a2d8699f",
   "metadata": {},
   "outputs": [
    {
     "data": {
      "text/plain": [
       "1"
      ]
     },
     "execution_count": 10,
     "metadata": {},
     "output_type": "execute_result"
    }
   ],
   "source": [
    "4%3"
   ]
  },
  {
   "cell_type": "code",
   "execution_count": 11,
   "id": "f5e5c5da-fbd2-46f0-880c-c60e0a0da2be",
   "metadata": {},
   "outputs": [],
   "source": [
    "# '%' this sign use for to find reminder"
   ]
  },
  {
   "cell_type": "code",
   "execution_count": 12,
   "id": "92ef717c-861b-4772-8434-e2932d65c444",
   "metadata": {},
   "outputs": [
    {
     "data": {
      "text/plain": [
       "2"
      ]
     },
     "execution_count": 12,
     "metadata": {},
     "output_type": "execute_result"
    }
   ],
   "source": [
    "10//5"
   ]
  },
  {
   "cell_type": "code",
   "execution_count": 13,
   "id": "40429a4d-4133-4e6d-8e68-845bb9a2d727",
   "metadata": {},
   "outputs": [],
   "source": [
    "##this '//' this sign will divide but not give result in floating number"
   ]
  },
  {
   "cell_type": "code",
   "execution_count": 15,
   "id": "f83a69f8-1019-4168-be84-d20ea22f2948",
   "metadata": {},
   "outputs": [
    {
     "data": {
      "text/plain": [
       "4"
      ]
     },
     "execution_count": 15,
     "metadata": {},
     "output_type": "execute_result"
    }
   ],
   "source": [
    "2**2"
   ]
  },
  {
   "cell_type": "code",
   "execution_count": 16,
   "id": "b69dde2e-67f0-43ad-af7d-044bb74e97c9",
   "metadata": {},
   "outputs": [],
   "source": [
    "## '**' this sign will give power of numeric number for exam square root of 2 is 4"
   ]
  },
  {
   "cell_type": "markdown",
   "id": "08b4faa0-2d52-48ea-8039-2dbe03cc0e28",
   "metadata": {},
   "source": [
    "## Q4. Create a list of length 10 of your choice containing multiple types of data. Using for loop print the \n",
    "element and its data type"
   ]
  },
  {
   "cell_type": "code",
   "execution_count": 18,
   "id": "2c3f4dfc-6808-466e-9b4e-a9ce0a64d743",
   "metadata": {},
   "outputs": [],
   "source": [
    "L1 = [1, 2, 3, 4, \"Nadim\" , \"pwsskills\" , True , False , 20+50j]"
   ]
  },
  {
   "cell_type": "code",
   "execution_count": 21,
   "id": "caa420a7-5c2e-4692-8ed4-b50a9af52d41",
   "metadata": {},
   "outputs": [
    {
     "name": "stdout",
     "output_type": "stream",
     "text": [
      "<class 'int'>\n",
      "<class 'int'>\n",
      "<class 'int'>\n",
      "<class 'int'>\n",
      "<class 'str'>\n",
      "<class 'str'>\n",
      "<class 'bool'>\n",
      "<class 'bool'>\n",
      "<class 'complex'>\n"
     ]
    }
   ],
   "source": [
    "for i in L1 :\n",
    "    print(type(i))"
   ]
  },
  {
   "cell_type": "code",
   "execution_count": null,
   "id": "8e1b621b-29d8-4e1f-9c5b-2d2da795a9c6",
   "metadata": {},
   "outputs": [],
   "source": [
    "l2 = [2,4,6,8,10,15,20,25,30,35,40,45,50,55,60,65,70,85,90,95,100]"
   ]
  },
  {
   "cell_type": "code",
   "execution_count": null,
   "id": "4608d12b-890c-47d3-8b26-8064f1bb5d7f",
   "metadata": {},
   "outputs": [],
   "source": [
    "for i in l2 :\n",
    "    print(l2(i/5))\n",
    "else :\n",
    "    print(\"this numbers are not divisible by 3\")"
   ]
  },
  {
   "cell_type": "markdown",
   "id": "d2f68274-b1ab-47be-89f2-777de7639850",
   "metadata": {},
   "source": [
    "# Q7. What do you understand about mutable and immutable data types? Give examples for both showing \n",
    "this property."
   ]
  },
  {
   "cell_type": "code",
   "execution_count": null,
   "id": "fdd56591-d091-47ec-962f-78cd6dccf0d1",
   "metadata": {},
   "outputs": [],
   "source": [
    "\"\"\"Mutable: Mutable means we can change or replace an object by accessing according to there index number in same location. For example we can change any number from list by accessing there index number.\n",
    "\n",
    "Immutable: Immutable means we cannot change, assigned or replace an object. For example we cannot change any word from string.\"\"\"\n"
   ]
  },
  {
   "cell_type": "code",
   "execution_count": null,
   "id": "1d7d92f8-2a2d-4e3e-8a1f-b31d94fc4886",
   "metadata": {},
   "outputs": [],
   "source": []
  }
 ],
 "metadata": {
  "kernelspec": {
   "display_name": "Python 3 (ipykernel)",
   "language": "python",
   "name": "python3"
  },
  "language_info": {
   "codemirror_mode": {
    "name": "ipython",
    "version": 3
   },
   "file_extension": ".py",
   "mimetype": "text/x-python",
   "name": "python",
   "nbconvert_exporter": "python",
   "pygments_lexer": "ipython3",
   "version": "3.10.8"
  }
 },
 "nbformat": 4,
 "nbformat_minor": 5
}
